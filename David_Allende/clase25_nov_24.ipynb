{
  "nbformat": 4,
  "nbformat_minor": 0,
  "metadata": {
    "colab": {
      "provenance": [],
      "authorship_tag": "ABX9TyMA4XOJ5KAV4IVdaGvyQZiv",
      "include_colab_link": true
    },
    "kernelspec": {
      "name": "python3",
      "display_name": "Python 3"
    },
    "language_info": {
      "name": "python"
    }
  },
  "cells": [
    {
      "cell_type": "markdown",
      "metadata": {
        "id": "view-in-github",
        "colab_type": "text"
      },
      "source": [
        "<a href=\"https://colab.research.google.com/github/FCPYTHON/UTEC-Fundamentos-de-Python/blob/main/David_Allende/clase25_nov_24.ipynb\" target=\"_parent\"><img src=\"https://colab.research.google.com/assets/colab-badge.svg\" alt=\"Open In Colab\"/></a>"
      ]
    },
    {
      "cell_type": "code",
      "source": [
        "# El comando extend me sirve para concatenar listas\n",
        "marcas_favoritas.extend(marcas_complementarias)\n",
        "print(f\"\\nMis marcas favoritas son \\n{marcas_favoritas}\")\n",
        "print(f\"\\nMis marcas complementarias son \\n{marcas_complementarias}\")"
      ],
      "metadata": {
        "id": "516edbP0DcBi",
        "outputId": "36af0169-a639-41bd-f418-b989e92bb9ba",
        "colab": {
          "base_uri": "https://localhost:8080/",
          "height": 193
        }
      },
      "execution_count": 5,
      "outputs": [
        {
          "output_type": "error",
          "ename": "NameError",
          "evalue": "name 'marcas_favoritas' is not defined",
          "traceback": [
            "\u001b[0;31m---------------------------------------------------------------------------\u001b[0m",
            "\u001b[0;31mNameError\u001b[0m                                 Traceback (most recent call last)",
            "\u001b[0;32m<ipython-input-5-aaf8c40cda92>\u001b[0m in \u001b[0;36m<cell line: 2>\u001b[0;34m()\u001b[0m\n\u001b[1;32m      1\u001b[0m \u001b[0;31m# El comando extend me sirve para concatenar listas\u001b[0m\u001b[0;34m\u001b[0m\u001b[0;34m\u001b[0m\u001b[0m\n\u001b[0;32m----> 2\u001b[0;31m \u001b[0mmarcas_favoritas\u001b[0m\u001b[0;34m.\u001b[0m\u001b[0mextend\u001b[0m\u001b[0;34m(\u001b[0m\u001b[0mmarcas_complementarias\u001b[0m\u001b[0;34m)\u001b[0m\u001b[0;34m\u001b[0m\u001b[0;34m\u001b[0m\u001b[0m\n\u001b[0m\u001b[1;32m      3\u001b[0m \u001b[0mprint\u001b[0m\u001b[0;34m(\u001b[0m\u001b[0;34mf\"\\nMis marcas favoritas son \\n{marcas_favoritas}\"\u001b[0m\u001b[0;34m)\u001b[0m\u001b[0;34m\u001b[0m\u001b[0;34m\u001b[0m\u001b[0m\n\u001b[1;32m      4\u001b[0m \u001b[0mprint\u001b[0m\u001b[0;34m(\u001b[0m\u001b[0;34mf\"\\nMis marcas complementarias son \\n{marcas_complementarias}\"\u001b[0m\u001b[0;34m)\u001b[0m\u001b[0;34m\u001b[0m\u001b[0;34m\u001b[0m\u001b[0m\n",
            "\u001b[0;31mNameError\u001b[0m: name 'marcas_favoritas' is not defined"
          ]
        }
      ]
    },
    {
      "cell_type": "code",
      "execution_count": 1,
      "metadata": {
        "id": "bIoZbeaFOs82"
      },
      "outputs": [],
      "source": [
        "# Listas numéricas\n",
        "numeros_ = [10, 20]\n",
        "numeros_2 = list(range(30,300,10))"
      ]
    },
    {
      "cell_type": "code",
      "source": [
        "print(f\"La lista de valores numéricos es \\n{numeros_}\")\n",
        "numeros_.extend(numeros_2)\n",
        "print(f\"\\nLa lista de valores numéricos es \\n{numeros_}\")"
      ],
      "metadata": {
        "id": "7878QygsAZxJ",
        "outputId": "707dd8e1-71fa-4348-9dfb-c6bdde2c62fc",
        "colab": {
          "base_uri": "https://localhost:8080/"
        }
      },
      "execution_count": 2,
      "outputs": [
        {
          "output_type": "stream",
          "name": "stdout",
          "text": [
            "La lista de valores numéricos es \n",
            "[10, 20]\n",
            "\n",
            "La lista de valores numéricos es \n",
            "[10, 20, 30, 40, 50, 60, 70, 80, 90, 100, 110, 120, 130, 140, 150, 160, 170, 180, 190, 200, 210, 220, 230, 240, 250, 260, 270, 280, 290]\n"
          ]
        }
      ]
    },
    {
      "cell_type": "code",
      "source": [
        "# Cuantificar la cantidad de elementos de una lista\n",
        "len(numeros_)"
      ],
      "metadata": {
        "id": "p2smtLMSDPeQ",
        "outputId": "b899642a-4c23-4fca-f68b-8a7137c2f875",
        "colab": {
          "base_uri": "https://localhost:8080/"
        }
      },
      "execution_count": 3,
      "outputs": [
        {
          "output_type": "execute_result",
          "data": {
            "text/plain": [
              "29"
            ]
          },
          "metadata": {},
          "execution_count": 3
        }
      ]
    },
    {
      "cell_type": "code",
      "source": [
        "print(f\"La suma de los elementos de la lista es \\n{sum(numeros_)}\")\n",
        "print(f\"El promedio de los elementos de la lista es \\n{sum(numeros_)/len(numeros_)}\")\n",
        "print(f\"El mínimo de los elementos de la lista es \\n{min(numeros_)}\")\n",
        "print(f\"El máximo de los elementos de la lista es \\n{max(numeros_)}\")"
      ],
      "metadata": {
        "id": "F8bdfr2uDUQ4",
        "outputId": "de4cfb7d-0d45-4b06-c44d-0a1f12a9e041",
        "colab": {
          "base_uri": "https://localhost:8080/"
        }
      },
      "execution_count": 4,
      "outputs": [
        {
          "output_type": "stream",
          "name": "stdout",
          "text": [
            "La suma de los elementos de la lista es \n",
            "4350\n",
            "El promedio de los elementos de la lista es \n",
            "150.0\n",
            "El mínimo de los elementos de la lista es \n",
            "10\n",
            "El máximo de los elementos de la lista es \n",
            "290\n"
          ]
        }
      ]
    },
    {
      "cell_type": "code",
      "source": [
        "a = [1,2,3]\n",
        "b = [4,5,6]\n",
        "c = [7,8,9]\n",
        "r = [a, b, c]"
      ],
      "metadata": {
        "id": "9PKg6mNFEG5N"
      },
      "execution_count": 6,
      "outputs": []
    },
    {
      "cell_type": "code",
      "source": [
        "print(f\"La lista a es \\n{a}\")\n",
        "print(f\"La lista b es \\n{b}\")\n",
        "print(f\"La lista c es \\n{c}\")\n",
        "print(f\"\\nLa lista de listas es \\n{r}\")"
      ],
      "metadata": {
        "id": "jQAMhNfiEKJl",
        "outputId": "31af929d-278d-4e03-94b8-32a09dd3aa6a",
        "colab": {
          "base_uri": "https://localhost:8080/"
        }
      },
      "execution_count": 7,
      "outputs": [
        {
          "output_type": "stream",
          "name": "stdout",
          "text": [
            "La lista a es \n",
            "[1, 2, 3]\n",
            "La lista b es \n",
            "[4, 5, 6]\n",
            "La lista c es \n",
            "[7, 8, 9]\n",
            "\n",
            "La lista de listas es \n",
            "[[1, 2, 3], [4, 5, 6], [7, 8, 9]]\n"
          ]
        }
      ]
    },
    {
      "cell_type": "code",
      "source": [
        "print(f\"El primer elemento de la lista r es \\n{r[0]}\")\n"
      ],
      "metadata": {
        "id": "bA7GAIs4E86F",
        "outputId": "e35bc75c-33cc-4010-bda2-97fc0fe68332",
        "colab": {
          "base_uri": "https://localhost:8080/"
        }
      },
      "execution_count": 8,
      "outputs": [
        {
          "output_type": "stream",
          "name": "stdout",
          "text": [
            "El primer elemento de la lista r es \n",
            "[1, 2, 3]\n"
          ]
        }
      ]
    },
    {
      "cell_type": "code",
      "source": [
        "print(f\"El tercer elemento de la lista r es \\n{r[2]}\")"
      ],
      "metadata": {
        "id": "V4V2GtbpFRe4",
        "outputId": "a21205a0-9cfb-4cbd-e757-abe03e58c62e",
        "colab": {
          "base_uri": "https://localhost:8080/"
        }
      },
      "execution_count": 9,
      "outputs": [
        {
          "output_type": "stream",
          "name": "stdout",
          "text": [
            "El tercer elemento de la lista r es \n",
            "[7, 8, 9]\n"
          ]
        }
      ]
    },
    {
      "cell_type": "code",
      "source": [
        "print(f\"El tercer elemento del tercer elemento de la lista r es \\n{r[2][2]}\")"
      ],
      "metadata": {
        "id": "zMlA3JpuFfC1",
        "outputId": "40805d6e-5b06-4269-ec0d-5219b3eddc17",
        "colab": {
          "base_uri": "https://localhost:8080/"
        }
      },
      "execution_count": 10,
      "outputs": [
        {
          "output_type": "stream",
          "name": "stdout",
          "text": [
            "El tercer elemento del tercer elemento de la lista r es \n",
            "9\n"
          ]
        }
      ]
    },
    {
      "cell_type": "code",
      "source": [
        "print(f\"El tercer elemento del tercer elemento de la lista r es \\n{r[-1][-1]}\")"
      ],
      "metadata": {
        "id": "EYfTni24FoE0",
        "outputId": "7455f214-d78a-4fb6-dbde-e14ac051ee2f",
        "colab": {
          "base_uri": "https://localhost:8080/"
        }
      },
      "execution_count": 12,
      "outputs": [
        {
          "output_type": "stream",
          "name": "stdout",
          "text": [
            "El tercer elemento del tercer elemento de la lista r es \n",
            "9\n"
          ]
        }
      ]
    },
    {
      "cell_type": "code",
      "source": [
        "list(\"Fernando\")"
      ],
      "metadata": {
        "id": "m6yAaj1AF5Zh",
        "outputId": "42fbe54f-02aa-4d5c-eee6-a3a9a8e28ce6",
        "colab": {
          "base_uri": "https://localhost:8080/"
        }
      },
      "execution_count": 13,
      "outputs": [
        {
          "output_type": "execute_result",
          "data": {
            "text/plain": [
              "['F', 'e', 'r', 'n', 'a', 'n', 'd', 'o']"
            ]
          },
          "metadata": {},
          "execution_count": 13
        }
      ]
    },
    {
      "cell_type": "code",
      "source": [
        "numeros_ = [10, 20]\n",
        "numeros_2 = list(range(30,300,10))"
      ],
      "metadata": {
        "id": "y7KOcDLHLh5-"
      },
      "execution_count": 14,
      "outputs": []
    },
    {
      "cell_type": "code",
      "source": [
        "print(f\"La lista de valores numéricos es \\n{numeros_}\")\n",
        "numeros_.extend(numeros_2)\n",
        "print(f\"\\nLa lista de valores numéricos es \\n{numeros_}\")"
      ],
      "metadata": {
        "id": "mCnW5wUyMTqW",
        "outputId": "b013183e-6488-42b2-f9cc-1eefb8b83060",
        "colab": {
          "base_uri": "https://localhost:8080/"
        }
      },
      "execution_count": 15,
      "outputs": [
        {
          "output_type": "stream",
          "name": "stdout",
          "text": [
            "La lista de valores numéricos es \n",
            "[10, 20]\n",
            "\n",
            "La lista de valores numéricos es \n",
            "[10, 20, 30, 40, 50, 60, 70, 80, 90, 100, 110, 120, 130, 140, 150, 160, 170, 180, 190, 200, 210, 220, 230, 240, 250, 260, 270, 280, 290]\n"
          ]
        }
      ]
    },
    {
      "cell_type": "code",
      "source": [
        "lista_X= list(range(12,202,2))"
      ],
      "metadata": {
        "id": "Lc-Zw6E7MVoH"
      },
      "execution_count": 18,
      "outputs": []
    },
    {
      "cell_type": "code",
      "source": [
        "print(f\"\\nLa lista de valores numéricos es \\n{lista_X}\")"
      ],
      "metadata": {
        "id": "aqOSxIphMua4",
        "outputId": "7e883d5b-a146-49a1-8151-6d402db5b4dc",
        "colab": {
          "base_uri": "https://localhost:8080/"
        }
      },
      "execution_count": 19,
      "outputs": [
        {
          "output_type": "stream",
          "name": "stdout",
          "text": [
            "\n",
            "La lista de valores numéricos es \n",
            "[12, 14, 16, 18, 20, 22, 24, 26, 28, 30, 32, 34, 36, 38, 40, 42, 44, 46, 48, 50, 52, 54, 56, 58, 60, 62, 64, 66, 68, 70, 72, 74, 76, 78, 80, 82, 84, 86, 88, 90, 92, 94, 96, 98, 100, 102, 104, 106, 108, 110, 112, 114, 116, 118, 120, 122, 124, 126, 128, 130, 132, 134, 136, 138, 140, 142, 144, 146, 148, 150, 152, 154, 156, 158, 160, 162, 164, 166, 168, 170, 172, 174, 176, 178, 180, 182, 184, 186, 188, 190, 192, 194, 196, 198, 200]\n"
          ]
        }
      ]
    },
    {
      "cell_type": "code",
      "source": [
        "## Actividad 1\n",
        "## 1.1\n",
        "lista_x = list(range(12,201,2)) # 12: punto de partida, 201: punta de parada (no está incluído), 2: saltos\n",
        "print(f\"La lista ingresada es \\n{lista_x}\")"
      ],
      "metadata": {
        "id": "6iNrmZFcPBkG",
        "outputId": "c41e0161-7f8d-4cae-cb62-9f81fcf6aa7a",
        "colab": {
          "base_uri": "https://localhost:8080/"
        }
      },
      "execution_count": 20,
      "outputs": [
        {
          "output_type": "stream",
          "name": "stdout",
          "text": [
            "La lista ingresada es \n",
            "[12, 14, 16, 18, 20, 22, 24, 26, 28, 30, 32, 34, 36, 38, 40, 42, 44, 46, 48, 50, 52, 54, 56, 58, 60, 62, 64, 66, 68, 70, 72, 74, 76, 78, 80, 82, 84, 86, 88, 90, 92, 94, 96, 98, 100, 102, 104, 106, 108, 110, 112, 114, 116, 118, 120, 122, 124, 126, 128, 130, 132, 134, 136, 138, 140, 142, 144, 146, 148, 150, 152, 154, 156, 158, 160, 162, 164, 166, 168, 170, 172, 174, 176, 178, 180, 182, 184, 186, 188, 190, 192, 194, 196, 198, 200]\n"
          ]
        }
      ]
    },
    {
      "cell_type": "code",
      "source": [
        "## Actividad 1\n",
        "## 1.2\n",
        "numeros_eliminados = [lista_x.pop(0),lista_x.pop()]\n",
        "print(f\"La lista de elementos eliminados es \\n{numeros_eliminados}\")"
      ],
      "metadata": {
        "id": "SrAsZZPbPDrs",
        "outputId": "b42f9a2b-aead-40dc-b73c-74d5dac33fda",
        "colab": {
          "base_uri": "https://localhost:8080/"
        }
      },
      "execution_count": 21,
      "outputs": [
        {
          "output_type": "stream",
          "name": "stdout",
          "text": [
            "La lista de elementos eliminados es \n",
            "[12, 200]\n"
          ]
        }
      ]
    },
    {
      "cell_type": "code",
      "source": [
        "## Actividad 1\n",
        "## 1.4\n",
        "print(f\"El valor mínimo de la lista es {min(lista_x)}\")\n",
        "print(f\"El valor máximo de la lista es {max(lista_x)}\")"
      ],
      "metadata": {
        "id": "NlwlVwbZPtL-",
        "outputId": "1633c488-56ef-45ef-ba72-09a44945b789",
        "colab": {
          "base_uri": "https://localhost:8080/"
        }
      },
      "execution_count": 22,
      "outputs": [
        {
          "output_type": "stream",
          "name": "stdout",
          "text": [
            "El valor mínimo de la lista es 14\n",
            "El valor máximo de la lista es 198\n"
          ]
        }
      ]
    },
    {
      "cell_type": "code",
      "source": [
        "## Actividad N001\n",
        "# Nota\n",
        "lista_x = [] # Define la lista vacía\n",
        "i = 12 # Elemento punto de partida\n",
        "while i<201:\n",
        "  lista_x.append(i)\n",
        "  i+=2\n",
        "print(f\"La lista ingresada es \\n{lista_x}\")"
      ],
      "metadata": {
        "id": "Cqo3iC0KTKK6",
        "outputId": "91042db0-c5c8-42b6-e282-83dcbaa2ac88",
        "colab": {
          "base_uri": "https://localhost:8080/"
        }
      },
      "execution_count": 28,
      "outputs": [
        {
          "output_type": "stream",
          "name": "stdout",
          "text": [
            "La lista ingresada es \n",
            "[12, 14, 16, 18, 20, 22, 24, 26, 28, 30, 32, 34, 36, 38, 40, 42, 44, 46, 48, 50, 52, 54, 56, 58, 60, 62, 64, 66, 68, 70, 72, 74, 76, 78, 80, 82, 84, 86, 88, 90, 92, 94, 96, 98, 100, 102, 104, 106, 108, 110, 112, 114, 116, 118, 120, 122, 124, 126, 128, 130, 132, 134, 136, 138, 140, 142, 144, 146, 148, 150, 152, 154, 156, 158, 160, 162, 164, 166, 168, 170, 172, 174, 176, 178, 180, 182, 184, 186, 188, 190, 192, 194, 196, 198, 200]\n"
          ]
        }
      ]
    },
    {
      "cell_type": "code",
      "source": [
        "from google.colab import files\n",
        "# Subir archivo desde tu máquina local\n",
        "uploaded = files.upload()"
      ],
      "metadata": {
        "id": "YcMG0bf_QbcR",
        "outputId": "48a9b4bf-d38c-47cc-caa9-fd204b51214c",
        "colab": {
          "base_uri": "https://localhost:8080/",
          "height": 73
        }
      },
      "execution_count": 25,
      "outputs": [
        {
          "output_type": "display_data",
          "data": {
            "text/plain": [
              "<IPython.core.display.HTML object>"
            ],
            "text/html": [
              "\n",
              "     <input type=\"file\" id=\"files-5250ee94-b17c-4470-9aba-ee3d6f9e4b34\" name=\"files[]\" multiple disabled\n",
              "        style=\"border:none\" />\n",
              "     <output id=\"result-5250ee94-b17c-4470-9aba-ee3d6f9e4b34\">\n",
              "      Upload widget is only available when the cell has been executed in the\n",
              "      current browser session. Please rerun this cell to enable.\n",
              "      </output>\n",
              "      <script>// Copyright 2017 Google LLC\n",
              "//\n",
              "// Licensed under the Apache License, Version 2.0 (the \"License\");\n",
              "// you may not use this file except in compliance with the License.\n",
              "// You may obtain a copy of the License at\n",
              "//\n",
              "//      http://www.apache.org/licenses/LICENSE-2.0\n",
              "//\n",
              "// Unless required by applicable law or agreed to in writing, software\n",
              "// distributed under the License is distributed on an \"AS IS\" BASIS,\n",
              "// WITHOUT WARRANTIES OR CONDITIONS OF ANY KIND, either express or implied.\n",
              "// See the License for the specific language governing permissions and\n",
              "// limitations under the License.\n",
              "\n",
              "/**\n",
              " * @fileoverview Helpers for google.colab Python module.\n",
              " */\n",
              "(function(scope) {\n",
              "function span(text, styleAttributes = {}) {\n",
              "  const element = document.createElement('span');\n",
              "  element.textContent = text;\n",
              "  for (const key of Object.keys(styleAttributes)) {\n",
              "    element.style[key] = styleAttributes[key];\n",
              "  }\n",
              "  return element;\n",
              "}\n",
              "\n",
              "// Max number of bytes which will be uploaded at a time.\n",
              "const MAX_PAYLOAD_SIZE = 100 * 1024;\n",
              "\n",
              "function _uploadFiles(inputId, outputId) {\n",
              "  const steps = uploadFilesStep(inputId, outputId);\n",
              "  const outputElement = document.getElementById(outputId);\n",
              "  // Cache steps on the outputElement to make it available for the next call\n",
              "  // to uploadFilesContinue from Python.\n",
              "  outputElement.steps = steps;\n",
              "\n",
              "  return _uploadFilesContinue(outputId);\n",
              "}\n",
              "\n",
              "// This is roughly an async generator (not supported in the browser yet),\n",
              "// where there are multiple asynchronous steps and the Python side is going\n",
              "// to poll for completion of each step.\n",
              "// This uses a Promise to block the python side on completion of each step,\n",
              "// then passes the result of the previous step as the input to the next step.\n",
              "function _uploadFilesContinue(outputId) {\n",
              "  const outputElement = document.getElementById(outputId);\n",
              "  const steps = outputElement.steps;\n",
              "\n",
              "  const next = steps.next(outputElement.lastPromiseValue);\n",
              "  return Promise.resolve(next.value.promise).then((value) => {\n",
              "    // Cache the last promise value to make it available to the next\n",
              "    // step of the generator.\n",
              "    outputElement.lastPromiseValue = value;\n",
              "    return next.value.response;\n",
              "  });\n",
              "}\n",
              "\n",
              "/**\n",
              " * Generator function which is called between each async step of the upload\n",
              " * process.\n",
              " * @param {string} inputId Element ID of the input file picker element.\n",
              " * @param {string} outputId Element ID of the output display.\n",
              " * @return {!Iterable<!Object>} Iterable of next steps.\n",
              " */\n",
              "function* uploadFilesStep(inputId, outputId) {\n",
              "  const inputElement = document.getElementById(inputId);\n",
              "  inputElement.disabled = false;\n",
              "\n",
              "  const outputElement = document.getElementById(outputId);\n",
              "  outputElement.innerHTML = '';\n",
              "\n",
              "  const pickedPromise = new Promise((resolve) => {\n",
              "    inputElement.addEventListener('change', (e) => {\n",
              "      resolve(e.target.files);\n",
              "    });\n",
              "  });\n",
              "\n",
              "  const cancel = document.createElement('button');\n",
              "  inputElement.parentElement.appendChild(cancel);\n",
              "  cancel.textContent = 'Cancel upload';\n",
              "  const cancelPromise = new Promise((resolve) => {\n",
              "    cancel.onclick = () => {\n",
              "      resolve(null);\n",
              "    };\n",
              "  });\n",
              "\n",
              "  // Wait for the user to pick the files.\n",
              "  const files = yield {\n",
              "    promise: Promise.race([pickedPromise, cancelPromise]),\n",
              "    response: {\n",
              "      action: 'starting',\n",
              "    }\n",
              "  };\n",
              "\n",
              "  cancel.remove();\n",
              "\n",
              "  // Disable the input element since further picks are not allowed.\n",
              "  inputElement.disabled = true;\n",
              "\n",
              "  if (!files) {\n",
              "    return {\n",
              "      response: {\n",
              "        action: 'complete',\n",
              "      }\n",
              "    };\n",
              "  }\n",
              "\n",
              "  for (const file of files) {\n",
              "    const li = document.createElement('li');\n",
              "    li.append(span(file.name, {fontWeight: 'bold'}));\n",
              "    li.append(span(\n",
              "        `(${file.type || 'n/a'}) - ${file.size} bytes, ` +\n",
              "        `last modified: ${\n",
              "            file.lastModifiedDate ? file.lastModifiedDate.toLocaleDateString() :\n",
              "                                    'n/a'} - `));\n",
              "    const percent = span('0% done');\n",
              "    li.appendChild(percent);\n",
              "\n",
              "    outputElement.appendChild(li);\n",
              "\n",
              "    const fileDataPromise = new Promise((resolve) => {\n",
              "      const reader = new FileReader();\n",
              "      reader.onload = (e) => {\n",
              "        resolve(e.target.result);\n",
              "      };\n",
              "      reader.readAsArrayBuffer(file);\n",
              "    });\n",
              "    // Wait for the data to be ready.\n",
              "    let fileData = yield {\n",
              "      promise: fileDataPromise,\n",
              "      response: {\n",
              "        action: 'continue',\n",
              "      }\n",
              "    };\n",
              "\n",
              "    // Use a chunked sending to avoid message size limits. See b/62115660.\n",
              "    let position = 0;\n",
              "    do {\n",
              "      const length = Math.min(fileData.byteLength - position, MAX_PAYLOAD_SIZE);\n",
              "      const chunk = new Uint8Array(fileData, position, length);\n",
              "      position += length;\n",
              "\n",
              "      const base64 = btoa(String.fromCharCode.apply(null, chunk));\n",
              "      yield {\n",
              "        response: {\n",
              "          action: 'append',\n",
              "          file: file.name,\n",
              "          data: base64,\n",
              "        },\n",
              "      };\n",
              "\n",
              "      let percentDone = fileData.byteLength === 0 ?\n",
              "          100 :\n",
              "          Math.round((position / fileData.byteLength) * 100);\n",
              "      percent.textContent = `${percentDone}% done`;\n",
              "\n",
              "    } while (position < fileData.byteLength);\n",
              "  }\n",
              "\n",
              "  // All done.\n",
              "  yield {\n",
              "    response: {\n",
              "      action: 'complete',\n",
              "    }\n",
              "  };\n",
              "}\n",
              "\n",
              "scope.google = scope.google || {};\n",
              "scope.google.colab = scope.google.colab || {};\n",
              "scope.google.colab._files = {\n",
              "  _uploadFiles,\n",
              "  _uploadFilesContinue,\n",
              "};\n",
              "})(self);\n",
              "</script> "
            ]
          },
          "metadata": {}
        },
        {
          "output_type": "stream",
          "name": "stdout",
          "text": [
            "Saving Actividad02.png to Actividad02.png\n"
          ]
        }
      ]
    },
    {
      "cell_type": "code",
      "source": [
        "from IPython.display import Image, display\n",
        "# Mostrar la imagen en Colab\n",
        "display(Image(filename='Actividad02.png'))"
      ],
      "metadata": {
        "id": "RhtG320hRSNu",
        "outputId": "7bc16fd5-33b9-4c80-d338-836a6b81874d",
        "colab": {
          "base_uri": "https://localhost:8080/",
          "height": 495
        }
      },
      "execution_count": 27,
      "outputs": [
        {
          "output_type": "display_data",
          "data": {
            "image/png": "[encoded data removed]",
            "text/plain": [
              "<IPython.core.display.Image object>"
            ]
          },
          "metadata": {}
        }
      ]
    },
    {
      "cell_type": "code",
      "source": [
        "## Actividad N002\n",
        "# 2.1\n",
        "n = int(input(\"Ingrese el número de elementos de la lista a crear:\"))"
      ],
      "metadata": {
        "id": "zER3kCenTpDY",
        "outputId": "fea93a6c-6ea3-44a4-cf22-521c8e278325",
        "colab": {
          "base_uri": "https://localhost:8080/"
        }
      },
      "execution_count": 31,
      "outputs": [
        {
          "name": "stdout",
          "output_type": "stream",
          "text": [
            "Ingrese el número de elementos de la lista a crear:5\n"
          ]
        }
      ]
    },
    {
      "cell_type": "code",
      "source": [
        "# Explicación de crear una lista de valores seguidos\n",
        "lista_y = [] # Crear una lista vacía\n",
        "i = 0\n",
        "while i<n:\n",
        "  print(i)\n",
        "  i += 1\n",
        "print(\"Fin.\")"
      ],
      "metadata": {
        "id": "jZPe8hm6VshB",
        "outputId": "d7d9f794-b084-4e15-a591-8ec234de3fc5",
        "colab": {
          "base_uri": "https://localhost:8080/"
        }
      },
      "execution_count": 32,
      "outputs": [
        {
          "output_type": "stream",
          "name": "stdout",
          "text": [
            "0\n",
            "1\n",
            "2\n",
            "3\n",
            "4\n",
            "Fin.\n"
          ]
        }
      ]
    },
    {
      "cell_type": "code",
      "source": [
        "## 2.2 y 2.3\n",
        "lista_y = [] # Crear una lista vacía\n",
        "i = 0 # inicializar en cero\n",
        "while i<n:\n",
        "  lista_y.append(int(input(f\"Ingrese el valor {i+1} de la lista: \")))\n",
        "  i+=1\n",
        "print(f\"La lista con los valores ingresados es: \\n{lista_y}\")"
      ],
      "metadata": {
        "id": "bvtRw-ceV_Sx",
        "outputId": "ab346b8f-eadf-4ee3-e25c-7b4fe791a7ce",
        "colab": {
          "base_uri": "https://localhost:8080/"
        }
      },
      "execution_count": 33,
      "outputs": [
        {
          "output_type": "stream",
          "name": "stdout",
          "text": [
            "Ingrese el valor 1 de la lista: 5\n",
            "Ingrese el valor 2 de la lista: 6\n",
            "Ingrese el valor 3 de la lista: 7\n",
            "Ingrese el valor 4 de la lista: 8\n",
            "Ingrese el valor 5 de la lista: 9\n",
            "La lista con los valores ingresados es: \n",
            "[5, 6, 7, 8, 9]\n"
          ]
        }
      ]
    },
    {
      "cell_type": "code",
      "source": [
        "print(f\"El valor mínimo de la lista es {min(lista_y)}\")\n",
        "print(f\"El valor máximo de la lista es {max(lista_y)}\")\n",
        "print(f\"El promedio de los elementos de la lista es {sum(lista_y)/len(lista_y)}\")"
      ],
      "metadata": {
        "id": "7sMfZzKPXMp4",
        "outputId": "36933657-aca9-4e53-ea9c-f1eec49ffada",
        "colab": {
          "base_uri": "https://localhost:8080/"
        }
      },
      "execution_count": 34,
      "outputs": [
        {
          "output_type": "stream",
          "name": "stdout",
          "text": [
            "El valor mínimo de la lista es 5\n",
            "El valor máximo de la lista es 9\n",
            "El promedio de los elementos de la lista es 7.0\n"
          ]
        }
      ]
    },
    {
      "cell_type": "code",
      "source": [
        "from google.colab import files\n",
        "# Subir archivo desde tu máquina local\n",
        "uploaded = files.upload()"
      ],
      "metadata": {
        "id": "OTZ-_So7XbxW",
        "outputId": "bbeee918-e0c8-4bd0-d274-e1dbe303cf79",
        "colab": {
          "base_uri": "https://localhost:8080/",
          "height": 73
        }
      },
      "execution_count": 35,
      "outputs": [
        {
          "output_type": "display_data",
          "data": {
            "text/plain": [
              "<IPython.core.display.HTML object>"
            ],
            "text/html": [
              "\n",
              "     <input type=\"file\" id=\"files-be769ce2-c474-4b04-a3d7-b5003f5bd447\" name=\"files[]\" multiple disabled\n",
              "        style=\"border:none\" />\n",
              "     <output id=\"result-be769ce2-c474-4b04-a3d7-b5003f5bd447\">\n",
              "      Upload widget is only available when the cell has been executed in the\n",
              "      current browser session. Please rerun this cell to enable.\n",
              "      </output>\n",
              "      <script>// Copyright 2017 Google LLC\n",
              "//\n",
              "// Licensed under the Apache License, Version 2.0 (the \"License\");\n",
              "// you may not use this file except in compliance with the License.\n",
              "// You may obtain a copy of the License at\n",
              "//\n",
              "//      http://www.apache.org/licenses/LICENSE-2.0\n",
              "//\n",
              "// Unless required by applicable law or agreed to in writing, software\n",
              "// distributed under the License is distributed on an \"AS IS\" BASIS,\n",
              "// WITHOUT WARRANTIES OR CONDITIONS OF ANY KIND, either express or implied.\n",
              "// See the License for the specific language governing permissions and\n",
              "// limitations under the License.\n",
              "\n",
              "/**\n",
              " * @fileoverview Helpers for google.colab Python module.\n",
              " */\n",
              "(function(scope) {\n",
              "function span(text, styleAttributes = {}) {\n",
              "  const element = document.createElement('span');\n",
              "  element.textContent = text;\n",
              "  for (const key of Object.keys(styleAttributes)) {\n",
              "    element.style[key] = styleAttributes[key];\n",
              "  }\n",
              "  return element;\n",
              "}\n",
              "\n",
              "// Max number of bytes which will be uploaded at a time.\n",
              "const MAX_PAYLOAD_SIZE = 100 * 1024;\n",
              "\n",
              "function _uploadFiles(inputId, outputId) {\n",
              "  const steps = uploadFilesStep(inputId, outputId);\n",
              "  const outputElement = document.getElementById(outputId);\n",
              "  // Cache steps on the outputElement to make it available for the next call\n",
              "  // to uploadFilesContinue from Python.\n",
              "  outputElement.steps = steps;\n",
              "\n",
              "  return _uploadFilesContinue(outputId);\n",
              "}\n",
              "\n",
              "// This is roughly an async generator (not supported in the browser yet),\n",
              "// where there are multiple asynchronous steps and the Python side is going\n",
              "// to poll for completion of each step.\n",
              "// This uses a Promise to block the python side on completion of each step,\n",
              "// then passes the result of the previous step as the input to the next step.\n",
              "function _uploadFilesContinue(outputId) {\n",
              "  const outputElement = document.getElementById(outputId);\n",
              "  const steps = outputElement.steps;\n",
              "\n",
              "  const next = steps.next(outputElement.lastPromiseValue);\n",
              "  return Promise.resolve(next.value.promise).then((value) => {\n",
              "    // Cache the last promise value to make it available to the next\n",
              "    // step of the generator.\n",
              "    outputElement.lastPromiseValue = value;\n",
              "    return next.value.response;\n",
              "  });\n",
              "}\n",
              "\n",
              "/**\n",
              " * Generator function which is called between each async step of the upload\n",
              " * process.\n",
              " * @param {string} inputId Element ID of the input file picker element.\n",
              " * @param {string} outputId Element ID of the output display.\n",
              " * @return {!Iterable<!Object>} Iterable of next steps.\n",
              " */\n",
              "function* uploadFilesStep(inputId, outputId) {\n",
              "  const inputElement = document.getElementById(inputId);\n",
              "  inputElement.disabled = false;\n",
              "\n",
              "  const outputElement = document.getElementById(outputId);\n",
              "  outputElement.innerHTML = '';\n",
              "\n",
              "  const pickedPromise = new Promise((resolve) => {\n",
              "    inputElement.addEventListener('change', (e) => {\n",
              "      resolve(e.target.files);\n",
              "    });\n",
              "  });\n",
              "\n",
              "  const cancel = document.createElement('button');\n",
              "  inputElement.parentElement.appendChild(cancel);\n",
              "  cancel.textContent = 'Cancel upload';\n",
              "  const cancelPromise = new Promise((resolve) => {\n",
              "    cancel.onclick = () => {\n",
              "      resolve(null);\n",
              "    };\n",
              "  });\n",
              "\n",
              "  // Wait for the user to pick the files.\n",
              "  const files = yield {\n",
              "    promise: Promise.race([pickedPromise, cancelPromise]),\n",
              "    response: {\n",
              "      action: 'starting',\n",
              "    }\n",
              "  };\n",
              "\n",
              "  cancel.remove();\n",
              "\n",
              "  // Disable the input element since further picks are not allowed.\n",
              "  inputElement.disabled = true;\n",
              "\n",
              "  if (!files) {\n",
              "    return {\n",
              "      response: {\n",
              "        action: 'complete',\n",
              "      }\n",
              "    };\n",
              "  }\n",
              "\n",
              "  for (const file of files) {\n",
              "    const li = document.createElement('li');\n",
              "    li.append(span(file.name, {fontWeight: 'bold'}));\n",
              "    li.append(span(\n",
              "        `(${file.type || 'n/a'}) - ${file.size} bytes, ` +\n",
              "        `last modified: ${\n",
              "            file.lastModifiedDate ? file.lastModifiedDate.toLocaleDateString() :\n",
              "                                    'n/a'} - `));\n",
              "    const percent = span('0% done');\n",
              "    li.appendChild(percent);\n",
              "\n",
              "    outputElement.appendChild(li);\n",
              "\n",
              "    const fileDataPromise = new Promise((resolve) => {\n",
              "      const reader = new FileReader();\n",
              "      reader.onload = (e) => {\n",
              "        resolve(e.target.result);\n",
              "      };\n",
              "      reader.readAsArrayBuffer(file);\n",
              "    });\n",
              "    // Wait for the data to be ready.\n",
              "    let fileData = yield {\n",
              "      promise: fileDataPromise,\n",
              "      response: {\n",
              "        action: 'continue',\n",
              "      }\n",
              "    };\n",
              "\n",
              "    // Use a chunked sending to avoid message size limits. See b/62115660.\n",
              "    let position = 0;\n",
              "    do {\n",
              "      const length = Math.min(fileData.byteLength - position, MAX_PAYLOAD_SIZE);\n",
              "      const chunk = new Uint8Array(fileData, position, length);\n",
              "      position += length;\n",
              "\n",
              "      const base64 = btoa(String.fromCharCode.apply(null, chunk));\n",
              "      yield {\n",
              "        response: {\n",
              "          action: 'append',\n",
              "          file: file.name,\n",
              "          data: base64,\n",
              "        },\n",
              "      };\n",
              "\n",
              "      let percentDone = fileData.byteLength === 0 ?\n",
              "          100 :\n",
              "          Math.round((position / fileData.byteLength) * 100);\n",
              "      percent.textContent = `${percentDone}% done`;\n",
              "\n",
              "    } while (position < fileData.byteLength);\n",
              "  }\n",
              "\n",
              "  // All done.\n",
              "  yield {\n",
              "    response: {\n",
              "      action: 'complete',\n",
              "    }\n",
              "  };\n",
              "}\n",
              "\n",
              "scope.google = scope.google || {};\n",
              "scope.google.colab = scope.google.colab || {};\n",
              "scope.google.colab._files = {\n",
              "  _uploadFiles,\n",
              "  _uploadFilesContinue,\n",
              "};\n",
              "})(self);\n",
              "</script> "
            ]
          },
          "metadata": {}
        },
        {
          "output_type": "stream",
          "name": "stdout",
          "text": [
            "Saving Actividad03.png to Actividad03.png\n"
          ]
        }
      ]
    },
    {
      "cell_type": "code",
      "source": [
        "from IPython.display import Image, display\n",
        "# Mostrar la imagen en Colab\n",
        "display(Image(filename='Actividad03.png'))"
      ],
      "metadata": {
        "id": "KGGTbIJ6XgeD",
        "outputId": "70a1e166-5191-4507-d89b-fbfe3c16ea93",
        "colab": {
          "base_uri": "https://localhost:8080/",
          "height": 518
        }
      },
      "execution_count": 36,
      "outputs": [
        {
          "output_type": "display_data",
          "data": {
            "image/png": "[encoded data removed]",
            "text/plain": [
              "<IPython.core.display.Image object>"
            ]
          },
          "metadata": {}
        }
      ]
    },
    {
      "cell_type": "code",
      "source": [
        "lista_X = [\"A\",\"B\",\"b\",\"c\",\"E\",\"E\",\"f\"]"
      ],
      "metadata": {
        "id": "AFb5OKHVXvzb"
      },
      "execution_count": 39,
      "outputs": []
    },
    {
      "cell_type": "code",
      "source": [
        "n = str(input(\"Ingrese el elemento a eliminar:\"))"
      ],
      "metadata": {
        "id": "hXtbHlz6YdGo",
        "outputId": "d2480438-7c53-4b6d-ec94-84470f78c44c",
        "colab": {
          "base_uri": "https://localhost:8080/"
        }
      },
      "execution_count": 38,
      "outputs": [
        {
          "name": "stdout",
          "output_type": "stream",
          "text": [
            "Ingrese el elemento a eliminar:a\n"
          ]
        }
      ]
    },
    {
      "cell_type": "code",
      "source": [
        "# Apartado 3.1\n",
        "lista_x = [\"A\", \"B\", \"b\", \"c\", \"E\", \"E\", \"f\"]\n",
        "print(\"Lista inicial:\", lista_x)\n",
        "# Apartado 3.2\n",
        "elemento_eliminar = input(\"Ingrese el elemento que desea eliminar: \")\n",
        "# Apartado 3.3\n",
        "if elemento_eliminar in lista_x:\n",
        "    lista_x.remove(elemento_eliminar)\n",
        "    print(f\"Elemento eliminado: {elemento_eliminar}\")\n",
        "else:\n",
        "    print(f\"El elemento '{elemento_eliminar}' no está en la lista.\")\n",
        "print(\"Lista resultante:\", lista_x)"
      ],
      "metadata": {
        "id": "IGifagtpao5V",
        "outputId": "81de7ed1-0ffb-40ad-863f-25b2b3db7ca4",
        "colab": {
          "base_uri": "https://localhost:8080/"
        }
      },
      "execution_count": 41,
      "outputs": [
        {
          "output_type": "stream",
          "name": "stdout",
          "text": [
            "Lista inicial: ['A', 'B', 'b', 'c', 'E', 'E', 'f']\n",
            "Ingrese el elemento que desea eliminar: C\n",
            "El elemento 'C' no está en la lista.\n",
            "Lista resultante: ['A', 'B', 'b', 'c', 'E', 'E', 'f']\n"
          ]
        }
      ]
    }
  ]
}